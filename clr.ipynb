{
  "nbformat": 4,
  "nbformat_minor": 0,
  "metadata": {
    "colab": {
      "name": "Untitled4.ipynb",
      "version": "0.3.2",
      "provenance": []
    },
    "kernelspec": {
      "name": "python3",
      "display_name": "Python 3"
    }
  },
  "cells": [
    {
      "metadata": {
        "id": "vhm0KT-SY_Yp",
        "colab_type": "text"
      },
      "cell_type": "markdown",
      "source": [
        "# Cyclic Learning Rate (CLR)\n",
        "TensorFlow implementation of cyclic learning rate from the paper: [Smith, Leslie N. \"Cyclical learning rates for training neural networks.\" 2017.](https://arxiv.org/pdf/1506.01186.pdf)\n"
      ]
    },
    {
      "metadata": {
        "id": "kSbxLxNpZCqT",
        "colab_type": "text"
      },
      "cell_type": "markdown",
      "source": [
        "## TOC\n",
        "1. [What is CLR ?](https://github.com/mhmoodlan/cyclic-learning-rate#what-is-clr-)\n",
        "2. [Usage](https://github.com/mhmoodlan/cyclic-learning-rate#usage)\n",
        "3. [Functional Tests](https://github.com/mhmoodlan/cyclic-learning-rate#running-functional-tests)\n",
        "4. [License](https://github.com/mhmoodlan/cyclic-learning-rate#license)"
      ]
    },
    {
      "metadata": {
        "id": "vTqqDZj1ZIwM",
        "colab_type": "text"
      },
      "cell_type": "markdown",
      "source": [
        "## What is CLR ?\n",
        "CLR is used to enhance the way the learning rate is scheduled during training, to provide better convergence and help in regularizing deep learning models.\n",
        "It eliminates the need to experimentally find the best values for the global learning rate. Allowing the learning rate to cyclically vary between lower and upper boundary values.\n",
        "The idea is to divide the training process into cycles determined by a _stepsize_ parameter, which defines the number of iterations in half a cycle. The author claims that it is often good to set the _stepsize_ to:\n",
        "```\n",
        "stepsize = (2 to 10) times the number of iterations in an epoch\n",
        "```\n",
        "\n",
        "The learning rate is computed as:\n",
        "```python\n",
        "cycle = floor( 1 + global_step / ( 2 * step_size ) )\n",
        "x = abs( global_step / step_size – 2 * cycle + 1 )\n",
        "clr = learning_rate + ( max_lr – learning_rate ) * max( 0 , 1 - x )\n",
        "```\n",
        "\n",
        "The author proposes three variations of this policy:\n",
        "* 'triangular':\n",
        "Default, linearly increasing then linearly decreasing the learning rate at each cycle.\n",
        "* 'triangular2':\n",
        "The same as the triangular policy except that the learning rate difference is cut in half at the end of each cycle. This means the learning rate difference drops after each cycle.\n",
        "* 'exp_range':\n",
        "The learning rate varies between the minimum and maximum boundaries and each boundary value declines by an exponential factor of:\n",
        "```\n",
        "𝑓 = 𝑔𝑎𝑚𝑚𝑎^𝑔𝑙𝑜𝑏𝑎𝑙_𝑠𝑡𝑒𝑝\n",
        "```\n",
        "\n",
        "Where _global_step_ is a number indicating the current iteration and _gamma_ is a constant passed as an argument to the CLR callback.\n"
      ]
    },
    {
      "metadata": {
        "id": "BB6aduy9ZQeZ",
        "colab_type": "text"
      },
      "cell_type": "markdown",
      "source": [
        "## Usage\n",
        "\n",
        "Upgrade to the latest version of TensorFlow:\n",
        "\n",
        "\n",
        "```\n",
        "!pip install --upgrade tensorflow\n",
        "```"
      ]
    },
    {
      "metadata": {
        "id": "lRT_EdihZVN5",
        "colab_type": "code",
        "colab": {}
      },
      "cell_type": "code",
      "source": [
        "import tensorflow as tf\n",
        "tf.__version__"
      ],
      "execution_count": 0,
      "outputs": []
    },
    {
      "metadata": {
        "id": "nDCFeRKBZboI",
        "colab_type": "text"
      },
      "cell_type": "markdown",
      "source": [
        "### Eager mode\n",
        "[Eager mode](https://www.tensorflow.org/guide/eager) evaluates operations immediately, without building graphs.\n",
        "\n",
        "Enable eager execution:"
      ]
    },
    {
      "metadata": {
        "id": "2TmsIP-lZd3g",
        "colab_type": "code",
        "colab": {}
      },
      "cell_type": "code",
      "source": [
        "import tensorflow as tf\n",
        "tf.enable_eager_execution()"
      ],
      "execution_count": 0,
      "outputs": []
    },
    {
      "metadata": {
        "id": "WMLcLGtRZgLB",
        "colab_type": "text"
      },
      "cell_type": "markdown",
      "source": [
        "Generate cyclic learning rates:"
      ]
    },
    {
      "metadata": {
        "id": "kla_mG4BZfyo",
        "colab_type": "code",
        "colab": {}
      },
      "cell_type": "code",
      "source": [
        "import clr\n",
        "import matplotlib.pyplot as plt\n",
        "%matplotlib inline\n",
        "\n",
        "print(tf.executing_eagerly()) # => True\n",
        "\n",
        "rates = []\n",
        "\n",
        "for i in range(0, 250):\n",
        "    x = clr.cyclic_learning_rate(i, mode='exp_range', gamma=.997)\n",
        "    rates.append(x())\n",
        "\n",
        "plt.xlabel('iterations (epochs)')\n",
        "plt.ylabel('learning rate')\n",
        "plt.plot(range(250), rates)"
      ],
      "execution_count": 0,
      "outputs": []
    },
    {
      "metadata": {
        "id": "zQqz-58AZqCh",
        "colab_type": "text"
      },
      "cell_type": "markdown",
      "source": [
        "### Graph mode\n"
      ]
    },
    {
      "metadata": {
        "id": "vRtI2AhLZhyB",
        "colab_type": "code",
        "colab": {}
      },
      "cell_type": "code",
      "source": [
        "import tensorflow as tf\n",
        "import clr\n",
        "import matplotlib.pyplot as plt\n",
        "%matplotlib inline\n",
        "\n",
        "print(tf.executing_eagerly()) # => False\n",
        "\n",
        "rates = []\n",
        "\n",
        "with tf.Session() as sess:\n",
        "    for i in range(0, 250):\n",
        "        rates.append(sess.run(clr.cyclic_learning_rate(i, mode='exp_range', gamma=.997)))\n",
        "\n",
        "plt.xlabel('iterations (epochs)')\n",
        "plt.ylabel('learning rate')\n",
        "plt.plot(range(250), rates)"
      ],
      "execution_count": 0,
      "outputs": []
    },
    {
      "metadata": {
        "id": "vpLnvrECZwLi",
        "colab_type": "text"
      },
      "cell_type": "markdown",
      "source": [
        "### Training Example:\n",
        "* 'triangular2' mode cyclic learning rate:"
      ]
    },
    {
      "metadata": {
        "id": "duiT8fYlZv4x",
        "colab_type": "code",
        "colab": {}
      },
      "cell_type": "code",
      "source": [
        "...\n",
        "global_step = tf.Variable(0, trainable=False)\n",
        "optimizer = tf.train.AdamOptimizer(learning_rate=\n",
        "  clr.cyclic_learning_rate(global_step=global_step, mode='triangular2'))\n",
        "train_op = optimizer.minimize(loss_op, global_step=global_step)\n",
        "...\n",
        " with tf.Session() as sess:\n",
        "    sess.run(init)\n",
        "    for step in range(1, num_steps+1):\n",
        "      assign_op = global_step.assign(step)\n",
        "      sess.run(assign_op)\n",
        "..."
      ],
      "execution_count": 0,
      "outputs": []
    },
    {
      "metadata": {
        "id": "n7DNtr8RZ40y",
        "colab_type": "text"
      },
      "cell_type": "markdown",
      "source": [
        "## Running Functional Tests"
      ]
    },
    {
      "metadata": {
        "id": "o0jf7VB2Z70o",
        "colab_type": "code",
        "colab": {}
      },
      "cell_type": "code",
      "source": [
        "from clr_test import CyclicLearningRateTest\n",
        "\n",
        "CyclicLearningRateTest().test_triangular()\n",
        "CyclicLearningRateTest().test_triangular2()\n",
        "CyclicLearningRateTest().test_exp_range()"
      ],
      "execution_count": 0,
      "outputs": []
    },
    {
      "metadata": {
        "id": "K_NmInMIZ9aB",
        "colab_type": "text"
      },
      "cell_type": "markdown",
      "source": [
        "## License\n",
        "\n",
        "This project is licensed under the MIT License - see the [LICENSE.md](LICENSE.md) file for details\n",
        "\n",
        "Inspired by [Brad Kenstler keras CLR implementation.](https://github.com/bckenstler/CLR)\n"
      ]
    }
  ]
}